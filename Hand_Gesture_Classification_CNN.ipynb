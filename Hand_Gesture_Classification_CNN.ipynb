{
  "nbformat": 4,
  "nbformat_minor": 0,
  "metadata": {
    "colab": {
      "name": "Hand Gesture Classification CNN.ipynb",
      "provenance": [],
      "collapsed_sections": []
    },
    "kernelspec": {
      "name": "python3",
      "display_name": "Python 3"
    },
    "language_info": {
      "name": "python"
    },
    "accelerator": "GPU",
    "gpuClass": "standard"
  },
  "cells": [
    {
      "cell_type": "code",
      "execution_count": 1,
      "metadata": {
        "id": "0RdkHhNR35Zg"
      },
      "outputs": [],
      "source": [
        "import numpy as np\n",
        "import pandas as pd\n",
        "import matplotlib.pyplot as plt\n",
        "import h5py"
      ]
    },
    {
      "cell_type": "code",
      "source": [
        "import tensorflow as tf\n",
        "from tensorflow import keras\n",
        "from keras.models import Sequential\n",
        "from keras.layers import Conv2D, MaxPool2D, Input\n",
        "from keras.layers import Dense, Dropout, Flatten"
      ],
      "metadata": {
        "id": "9o8ypazg-Pq-"
      },
      "execution_count": 2,
      "outputs": []
    },
    {
      "cell_type": "code",
      "source": [
        "train = h5py.File('/content/drive/MyDrive/Hand Gesture Model/train_signs.h5', 'r')\n",
        "test = h5py.File('/content/drive/MyDrive/Hand Gesture Model/test_signs.h5','r')"
      ],
      "metadata": {
        "id": "PkINRnKj_isu"
      },
      "execution_count": 3,
      "outputs": []
    },
    {
      "cell_type": "code",
      "source": [
        "train.keys()"
      ],
      "metadata": {
        "colab": {
          "base_uri": "https://localhost:8080/"
        },
        "id": "nzyqg3F__5GO",
        "outputId": "4bf47368-3046-4ceb-8cb8-77e3572aa1ab"
      },
      "execution_count": 4,
      "outputs": [
        {
          "output_type": "execute_result",
          "data": {
            "text/plain": [
              "<KeysViewHDF5 ['list_classes', 'train_set_x', 'train_set_y']>"
            ]
          },
          "metadata": {},
          "execution_count": 4
        }
      ]
    },
    {
      "cell_type": "code",
      "source": [
        "test.keys()"
      ],
      "metadata": {
        "colab": {
          "base_uri": "https://localhost:8080/"
        },
        "id": "zTLOU_XB_6x9",
        "outputId": "231c5b7a-32ce-4ec6-dcf0-2ab401fc9eea"
      },
      "execution_count": 5,
      "outputs": [
        {
          "output_type": "execute_result",
          "data": {
            "text/plain": [
              "<KeysViewHDF5 ['list_classes', 'test_set_x', 'test_set_y']>"
            ]
          },
          "metadata": {},
          "execution_count": 5
        }
      ]
    },
    {
      "cell_type": "code",
      "source": [
        "#Creating the train and test files\n",
        "x_train = np.array(train['train_set_x'])\n",
        "y_train = np.array(train['train_set_y'])\n",
        "x_test = np.array(test['test_set_x'])\n",
        "y_test = np.array(test['test_set_y'])\n",
        "\n",
        "x_train = x_train/255.\n",
        "x_test = x_test/255.\n",
        "\n",
        "print('x train shape is', x_train.shape)\n",
        "print('y train shape is', y_train.shape)\n",
        "print('x test shape is', x_test.shape)\n",
        "print('y test shape is', y_test.shape)"
      ],
      "metadata": {
        "colab": {
          "base_uri": "https://localhost:8080/"
        },
        "id": "5WM226CV_87k",
        "outputId": "59941de1-0a93-4689-f585-a6dbb1c098a9"
      },
      "execution_count": 6,
      "outputs": [
        {
          "output_type": "stream",
          "name": "stdout",
          "text": [
            "x train shape is (1080, 64, 64, 3)\n",
            "y train shape is (1080,)\n",
            "x test shape is (120, 64, 64, 3)\n",
            "y test shape is (120,)\n"
          ]
        }
      ]
    },
    {
      "cell_type": "code",
      "source": [
        "#converting the y from being vectors to binary\n",
        "y_train = keras.utils.to_categorical(y_train, num_classes=6)\n",
        "y_test = keras.utils.to_categorical(y_test, num_classes=6)\n",
        "\n",
        "print('y train shape is', y_train.shape)\n",
        "print('y test shape is', y_test.shape)"
      ],
      "metadata": {
        "colab": {
          "base_uri": "https://localhost:8080/"
        },
        "id": "_JGdUgdpAwP1",
        "outputId": "6f584697-ef71-4dd0-e7ef-f8e6754e8aea"
      },
      "execution_count": 7,
      "outputs": [
        {
          "output_type": "stream",
          "name": "stdout",
          "text": [
            "y train shape is (1080, 6)\n",
            "y test shape is (120, 6)\n"
          ]
        }
      ]
    },
    {
      "cell_type": "code",
      "source": [
        "# Data_visualization\n",
        "plt.imshow(x_train[0])\n",
        "plt.show()"
      ],
      "metadata": {
        "colab": {
          "base_uri": "https://localhost:8080/",
          "height": 268
        },
        "id": "Oo5SpxfWAzGN",
        "outputId": "a224c5e8-1c3e-40b4-fbc2-96a890e3d72b"
      },
      "execution_count": 8,
      "outputs": [
        {
          "output_type": "display_data",
          "data": {
            "text/plain": [
              "<Figure size 432x288 with 1 Axes>"
            ],
            "image/png": "[encoded data removed]"
          },
          "metadata": {
            "needs_background": "light"
          }
        }
      ]
    },
    {
      "cell_type": "code",
      "source": [
        "print(y_train[0])"
      ],
      "metadata": {
        "colab": {
          "base_uri": "https://localhost:8080/"
        },
        "id": "NntGPM7jA2DU",
        "outputId": "0cd70f50-4db5-4c24-c8ec-3be3b4111aa7"
      },
      "execution_count": 9,
      "outputs": [
        {
          "output_type": "stream",
          "name": "stdout",
          "text": [
            "[0. 0. 0. 0. 0. 1.]\n"
          ]
        }
      ]
    },
    {
      "cell_type": "code",
      "source": [
        "def hand_model():\n",
        "\n",
        "  model= Sequential()\n",
        "  model.add(Conv2D(filters=8, kernel_size = (4,4), padding='same',strides=1, activation='relu', input_shape=(64,64,3)))\n",
        "  model.add(MaxPool2D(pool_size=8, strides=8, padding='SAME'))\n",
        "  model.add(Flatten())\n",
        "  model.add(Dense(6, activation='softmax'))\n",
        "\n",
        "\n",
        "  \n",
        "  return model\n",
        "\n",
        "conv_model = hand_model()\n",
        "conv_model.summary()"
      ],
      "metadata": {
        "colab": {
          "base_uri": "https://localhost:8080/"
        },
        "id": "Fn1fxloxA5i0",
        "outputId": "6b975bc1-7905-4d32-f865-8a11a7b73874"
      },
      "execution_count": 14,
      "outputs": [
        {
          "output_type": "stream",
          "name": "stdout",
          "text": [
            "Model: \"sequential_1\"\n",
            "_________________________________________________________________\n",
            " Layer (type)                Output Shape              Param #   \n",
            "=================================================================\n",
            " conv2d_1 (Conv2D)           (None, 64, 64, 8)         392       \n",
            "                                                                 \n",
            " max_pooling2d_1 (MaxPooling  (None, 8, 8, 8)          0         \n",
            " 2D)                                                             \n",
            "                                                                 \n",
            " flatten_1 (Flatten)         (None, 512)               0         \n",
            "                                                                 \n",
            " dense_1 (Dense)             (None, 6)                 3078      \n",
            "                                                                 \n",
            "=================================================================\n",
            "Total params: 3,470\n",
            "Trainable params: 3,470\n",
            "Non-trainable params: 0\n",
            "_________________________________________________________________\n"
          ]
        }
      ]
    },
    {
      "cell_type": "code",
      "source": [
        "conv_model.compile(optimizer='adam',\n",
        "                  loss='categorical_crossentropy',\n",
        "                  metrics=['accuracy'])"
      ],
      "metadata": {
        "id": "4cGqvipJGXOb"
      },
      "execution_count": 15,
      "outputs": []
    },
    {
      "cell_type": "code",
      "source": [
        "train_dataset = tf.data.Dataset.from_tensor_slices((x_train, y_train)).batch(64)\n",
        "test_dataset = tf.data.Dataset.from_tensor_slices((x_test, y_test)).batch(64)\n",
        "history = conv_model.fit(train_dataset, epochs=100, validation_data=test_dataset)"
      ],
      "metadata": {
        "colab": {
          "base_uri": "https://localhost:8080/"
        },
        "id": "iZKqynXEA5y0",
        "outputId": "71f0dcf1-387a-4659-d128-b8dbfab94f6d"
      },
      "execution_count": 16,
      "outputs": [
        {
          "output_type": "stream",
          "name": "stdout",
          "text": [
            "Epoch 1/100\n",
            "17/17 [==============================] - 1s 21ms/step - loss: 1.8286 - accuracy: 0.1713 - val_loss: 1.7944 - val_accuracy: 0.1667\n",
            "Epoch 2/100\n",
            "17/17 [==============================] - 0s 10ms/step - loss: 1.7916 - accuracy: 0.1944 - val_loss: 1.7700 - val_accuracy: 0.2167\n",
            "Epoch 3/100\n",
            "17/17 [==============================] - 0s 10ms/step - loss: 1.7537 - accuracy: 0.2639 - val_loss: 1.7379 - val_accuracy: 0.3167\n",
            "Epoch 4/100\n",
            "17/17 [==============================] - 0s 10ms/step - loss: 1.7181 - accuracy: 0.3213 - val_loss: 1.7024 - val_accuracy: 0.4417\n",
            "Epoch 5/100\n",
            "17/17 [==============================] - 0s 10ms/step - loss: 1.6700 - accuracy: 0.4259 - val_loss: 1.6576 - val_accuracy: 0.5000\n",
            "Epoch 6/100\n",
            "17/17 [==============================] - 0s 10ms/step - loss: 1.6111 - accuracy: 0.5065 - val_loss: 1.6021 - val_accuracy: 0.5333\n",
            "Epoch 7/100\n",
            "17/17 [==============================] - 0s 10ms/step - loss: 1.5412 - accuracy: 0.5389 - val_loss: 1.5332 - val_accuracy: 0.5667\n",
            "Epoch 8/100\n",
            "17/17 [==============================] - 0s 10ms/step - loss: 1.4609 - accuracy: 0.5815 - val_loss: 1.4590 - val_accuracy: 0.6000\n",
            "Epoch 9/100\n",
            "17/17 [==============================] - 0s 10ms/step - loss: 1.3793 - accuracy: 0.6102 - val_loss: 1.3853 - val_accuracy: 0.6167\n",
            "Epoch 10/100\n",
            "17/17 [==============================] - 0s 11ms/step - loss: 1.3062 - accuracy: 0.6259 - val_loss: 1.3196 - val_accuracy: 0.6417\n",
            "Epoch 11/100\n",
            "17/17 [==============================] - 0s 11ms/step - loss: 1.2357 - accuracy: 0.6417 - val_loss: 1.2595 - val_accuracy: 0.6583\n",
            "Epoch 12/100\n",
            "17/17 [==============================] - 0s 11ms/step - loss: 1.1674 - accuracy: 0.6778 - val_loss: 1.1945 - val_accuracy: 0.6917\n",
            "Epoch 13/100\n",
            "17/17 [==============================] - 0s 11ms/step - loss: 1.1116 - accuracy: 0.6991 - val_loss: 1.1477 - val_accuracy: 0.6750\n",
            "Epoch 14/100\n",
            "17/17 [==============================] - 0s 11ms/step - loss: 1.0545 - accuracy: 0.7074 - val_loss: 1.0968 - val_accuracy: 0.6917\n",
            "Epoch 15/100\n",
            "17/17 [==============================] - 0s 11ms/step - loss: 1.0040 - accuracy: 0.7398 - val_loss: 1.0477 - val_accuracy: 0.6917\n",
            "Epoch 16/100\n",
            "17/17 [==============================] - 0s 11ms/step - loss: 0.9571 - accuracy: 0.7389 - val_loss: 1.0094 - val_accuracy: 0.6917\n",
            "Epoch 17/100\n",
            "17/17 [==============================] - 0s 11ms/step - loss: 0.9151 - accuracy: 0.7519 - val_loss: 0.9737 - val_accuracy: 0.6917\n",
            "Epoch 18/100\n",
            "17/17 [==============================] - 0s 11ms/step - loss: 0.8779 - accuracy: 0.7630 - val_loss: 0.9407 - val_accuracy: 0.7000\n",
            "Epoch 19/100\n",
            "17/17 [==============================] - 0s 10ms/step - loss: 0.8424 - accuracy: 0.7685 - val_loss: 0.9121 - val_accuracy: 0.7083\n",
            "Epoch 20/100\n",
            "17/17 [==============================] - 0s 11ms/step - loss: 0.8114 - accuracy: 0.7787 - val_loss: 0.8836 - val_accuracy: 0.7083\n",
            "Epoch 21/100\n",
            "17/17 [==============================] - 0s 11ms/step - loss: 0.7813 - accuracy: 0.7815 - val_loss: 0.8564 - val_accuracy: 0.7167\n",
            "Epoch 22/100\n",
            "17/17 [==============================] - 0s 11ms/step - loss: 0.7537 - accuracy: 0.7898 - val_loss: 0.8379 - val_accuracy: 0.7250\n",
            "Epoch 23/100\n",
            "17/17 [==============================] - 0s 10ms/step - loss: 0.7271 - accuracy: 0.8000 - val_loss: 0.8136 - val_accuracy: 0.7417\n",
            "Epoch 24/100\n",
            "17/17 [==============================] - 0s 11ms/step - loss: 0.7029 - accuracy: 0.8046 - val_loss: 0.7946 - val_accuracy: 0.7333\n",
            "Epoch 25/100\n",
            "17/17 [==============================] - 0s 10ms/step - loss: 0.6804 - accuracy: 0.8102 - val_loss: 0.7761 - val_accuracy: 0.7500\n",
            "Epoch 26/100\n",
            "17/17 [==============================] - 0s 11ms/step - loss: 0.6592 - accuracy: 0.8176 - val_loss: 0.7598 - val_accuracy: 0.7667\n",
            "Epoch 27/100\n",
            "17/17 [==============================] - 0s 11ms/step - loss: 0.6398 - accuracy: 0.8204 - val_loss: 0.7440 - val_accuracy: 0.7750\n",
            "Epoch 28/100\n",
            "17/17 [==============================] - 0s 16ms/step - loss: 0.6212 - accuracy: 0.8250 - val_loss: 0.7298 - val_accuracy: 0.7750\n",
            "Epoch 29/100\n",
            "17/17 [==============================] - 0s 11ms/step - loss: 0.6047 - accuracy: 0.8306 - val_loss: 0.7171 - val_accuracy: 0.7750\n",
            "Epoch 30/100\n",
            "17/17 [==============================] - 0s 11ms/step - loss: 0.5886 - accuracy: 0.8343 - val_loss: 0.7035 - val_accuracy: 0.7750\n",
            "Epoch 31/100\n",
            "17/17 [==============================] - 0s 11ms/step - loss: 0.5727 - accuracy: 0.8417 - val_loss: 0.6897 - val_accuracy: 0.7750\n",
            "Epoch 32/100\n",
            "17/17 [==============================] - 0s 11ms/step - loss: 0.5585 - accuracy: 0.8435 - val_loss: 0.6791 - val_accuracy: 0.7750\n",
            "Epoch 33/100\n",
            "17/17 [==============================] - 0s 15ms/step - loss: 0.5447 - accuracy: 0.8509 - val_loss: 0.6681 - val_accuracy: 0.7833\n",
            "Epoch 34/100\n",
            "17/17 [==============================] - 0s 11ms/step - loss: 0.5312 - accuracy: 0.8519 - val_loss: 0.6567 - val_accuracy: 0.7833\n",
            "Epoch 35/100\n",
            "17/17 [==============================] - 0s 11ms/step - loss: 0.5185 - accuracy: 0.8602 - val_loss: 0.6464 - val_accuracy: 0.7917\n",
            "Epoch 36/100\n",
            "17/17 [==============================] - 0s 11ms/step - loss: 0.5065 - accuracy: 0.8648 - val_loss: 0.6362 - val_accuracy: 0.8000\n",
            "Epoch 37/100\n",
            "17/17 [==============================] - 0s 11ms/step - loss: 0.4948 - accuracy: 0.8657 - val_loss: 0.6267 - val_accuracy: 0.8083\n",
            "Epoch 38/100\n",
            "17/17 [==============================] - 0s 11ms/step - loss: 0.4839 - accuracy: 0.8713 - val_loss: 0.6176 - val_accuracy: 0.8083\n",
            "Epoch 39/100\n",
            "17/17 [==============================] - 0s 11ms/step - loss: 0.4733 - accuracy: 0.8750 - val_loss: 0.6090 - val_accuracy: 0.8083\n",
            "Epoch 40/100\n",
            "17/17 [==============================] - 0s 10ms/step - loss: 0.4633 - accuracy: 0.8759 - val_loss: 0.6008 - val_accuracy: 0.8083\n",
            "Epoch 41/100\n",
            "17/17 [==============================] - 0s 11ms/step - loss: 0.4535 - accuracy: 0.8787 - val_loss: 0.5922 - val_accuracy: 0.8167\n",
            "Epoch 42/100\n",
            "17/17 [==============================] - 0s 11ms/step - loss: 0.4442 - accuracy: 0.8796 - val_loss: 0.5841 - val_accuracy: 0.8167\n",
            "Epoch 43/100\n",
            "17/17 [==============================] - 0s 11ms/step - loss: 0.4351 - accuracy: 0.8824 - val_loss: 0.5764 - val_accuracy: 0.8167\n",
            "Epoch 44/100\n",
            "17/17 [==============================] - 0s 11ms/step - loss: 0.4263 - accuracy: 0.8870 - val_loss: 0.5687 - val_accuracy: 0.8167\n",
            "Epoch 45/100\n",
            "17/17 [==============================] - 0s 11ms/step - loss: 0.4178 - accuracy: 0.8889 - val_loss: 0.5613 - val_accuracy: 0.8167\n",
            "Epoch 46/100\n",
            "17/17 [==============================] - 0s 11ms/step - loss: 0.4097 - accuracy: 0.8935 - val_loss: 0.5544 - val_accuracy: 0.8167\n",
            "Epoch 47/100\n",
            "17/17 [==============================] - 0s 11ms/step - loss: 0.4017 - accuracy: 0.8944 - val_loss: 0.5475 - val_accuracy: 0.8250\n",
            "Epoch 48/100\n",
            "17/17 [==============================] - 0s 11ms/step - loss: 0.3941 - accuracy: 0.8954 - val_loss: 0.5409 - val_accuracy: 0.8250\n",
            "Epoch 49/100\n",
            "17/17 [==============================] - 0s 11ms/step - loss: 0.3866 - accuracy: 0.8963 - val_loss: 0.5343 - val_accuracy: 0.8250\n",
            "Epoch 50/100\n",
            "17/17 [==============================] - 0s 11ms/step - loss: 0.3793 - accuracy: 0.8981 - val_loss: 0.5281 - val_accuracy: 0.8417\n",
            "Epoch 51/100\n",
            "17/17 [==============================] - 0s 11ms/step - loss: 0.3722 - accuracy: 0.9009 - val_loss: 0.5220 - val_accuracy: 0.8417\n",
            "Epoch 52/100\n",
            "17/17 [==============================] - 0s 11ms/step - loss: 0.3654 - accuracy: 0.9037 - val_loss: 0.5162 - val_accuracy: 0.8417\n",
            "Epoch 53/100\n",
            "17/17 [==============================] - 0s 11ms/step - loss: 0.3587 - accuracy: 0.9056 - val_loss: 0.5105 - val_accuracy: 0.8417\n",
            "Epoch 54/100\n",
            "17/17 [==============================] - 0s 11ms/step - loss: 0.3523 - accuracy: 0.9046 - val_loss: 0.5049 - val_accuracy: 0.8417\n",
            "Epoch 55/100\n",
            "17/17 [==============================] - 0s 11ms/step - loss: 0.3458 - accuracy: 0.9093 - val_loss: 0.4994 - val_accuracy: 0.8333\n",
            "Epoch 56/100\n",
            "17/17 [==============================] - 0s 11ms/step - loss: 0.3398 - accuracy: 0.9083 - val_loss: 0.4945 - val_accuracy: 0.8333\n",
            "Epoch 57/100\n",
            "17/17 [==============================] - 0s 11ms/step - loss: 0.3337 - accuracy: 0.9111 - val_loss: 0.4896 - val_accuracy: 0.8333\n",
            "Epoch 58/100\n",
            "17/17 [==============================] - 0s 11ms/step - loss: 0.3279 - accuracy: 0.9120 - val_loss: 0.4844 - val_accuracy: 0.8333\n",
            "Epoch 59/100\n",
            "17/17 [==============================] - 0s 11ms/step - loss: 0.3220 - accuracy: 0.9148 - val_loss: 0.4797 - val_accuracy: 0.8333\n",
            "Epoch 60/100\n",
            "17/17 [==============================] - 0s 11ms/step - loss: 0.3165 - accuracy: 0.9148 - val_loss: 0.4752 - val_accuracy: 0.8500\n",
            "Epoch 61/100\n",
            "17/17 [==============================] - 0s 11ms/step - loss: 0.3110 - accuracy: 0.9194 - val_loss: 0.4705 - val_accuracy: 0.8500\n",
            "Epoch 62/100\n",
            "17/17 [==============================] - 0s 11ms/step - loss: 0.3056 - accuracy: 0.9213 - val_loss: 0.4661 - val_accuracy: 0.8500\n",
            "Epoch 63/100\n",
            "17/17 [==============================] - 0s 11ms/step - loss: 0.3003 - accuracy: 0.9269 - val_loss: 0.4621 - val_accuracy: 0.8500\n",
            "Epoch 64/100\n",
            "17/17 [==============================] - 0s 12ms/step - loss: 0.2952 - accuracy: 0.9278 - val_loss: 0.4578 - val_accuracy: 0.8500\n",
            "Epoch 65/100\n",
            "17/17 [==============================] - 0s 11ms/step - loss: 0.2901 - accuracy: 0.9296 - val_loss: 0.4539 - val_accuracy: 0.8500\n",
            "Epoch 66/100\n",
            "17/17 [==============================] - 0s 12ms/step - loss: 0.2852 - accuracy: 0.9306 - val_loss: 0.4500 - val_accuracy: 0.8500\n",
            "Epoch 67/100\n",
            "17/17 [==============================] - 0s 12ms/step - loss: 0.2803 - accuracy: 0.9333 - val_loss: 0.4461 - val_accuracy: 0.8500\n",
            "Epoch 68/100\n",
            "17/17 [==============================] - 0s 11ms/step - loss: 0.2754 - accuracy: 0.9361 - val_loss: 0.4424 - val_accuracy: 0.8583\n",
            "Epoch 69/100\n",
            "17/17 [==============================] - 0s 12ms/step - loss: 0.2708 - accuracy: 0.9361 - val_loss: 0.4387 - val_accuracy: 0.8583\n",
            "Epoch 70/100\n",
            "17/17 [==============================] - 0s 11ms/step - loss: 0.2664 - accuracy: 0.9380 - val_loss: 0.4353 - val_accuracy: 0.8583\n",
            "Epoch 71/100\n",
            "17/17 [==============================] - 0s 11ms/step - loss: 0.2619 - accuracy: 0.9380 - val_loss: 0.4319 - val_accuracy: 0.8583\n",
            "Epoch 72/100\n",
            "17/17 [==============================] - 0s 11ms/step - loss: 0.2576 - accuracy: 0.9380 - val_loss: 0.4286 - val_accuracy: 0.8583\n",
            "Epoch 73/100\n",
            "17/17 [==============================] - 0s 11ms/step - loss: 0.2533 - accuracy: 0.9398 - val_loss: 0.4252 - val_accuracy: 0.8583\n",
            "Epoch 74/100\n",
            "17/17 [==============================] - 0s 11ms/step - loss: 0.2491 - accuracy: 0.9407 - val_loss: 0.4219 - val_accuracy: 0.8583\n",
            "Epoch 75/100\n",
            "17/17 [==============================] - 0s 11ms/step - loss: 0.2451 - accuracy: 0.9426 - val_loss: 0.4190 - val_accuracy: 0.8583\n",
            "Epoch 76/100\n",
            "17/17 [==============================] - 0s 11ms/step - loss: 0.2411 - accuracy: 0.9435 - val_loss: 0.4160 - val_accuracy: 0.8583\n",
            "Epoch 77/100\n",
            "17/17 [==============================] - 0s 11ms/step - loss: 0.2371 - accuracy: 0.9435 - val_loss: 0.4127 - val_accuracy: 0.8583\n",
            "Epoch 78/100\n",
            "17/17 [==============================] - 0s 12ms/step - loss: 0.2333 - accuracy: 0.9435 - val_loss: 0.4099 - val_accuracy: 0.8583\n",
            "Epoch 79/100\n",
            "17/17 [==============================] - 0s 11ms/step - loss: 0.2295 - accuracy: 0.9463 - val_loss: 0.4070 - val_accuracy: 0.8583\n",
            "Epoch 80/100\n",
            "17/17 [==============================] - 0s 11ms/step - loss: 0.2258 - accuracy: 0.9481 - val_loss: 0.4041 - val_accuracy: 0.8583\n",
            "Epoch 81/100\n",
            "17/17 [==============================] - 0s 11ms/step - loss: 0.2221 - accuracy: 0.9500 - val_loss: 0.4015 - val_accuracy: 0.8667\n",
            "Epoch 82/100\n",
            "17/17 [==============================] - 0s 11ms/step - loss: 0.2186 - accuracy: 0.9500 - val_loss: 0.3989 - val_accuracy: 0.8750\n",
            "Epoch 83/100\n",
            "17/17 [==============================] - 0s 11ms/step - loss: 0.2151 - accuracy: 0.9500 - val_loss: 0.3963 - val_accuracy: 0.8750\n",
            "Epoch 84/100\n",
            "17/17 [==============================] - 0s 11ms/step - loss: 0.2117 - accuracy: 0.9500 - val_loss: 0.3942 - val_accuracy: 0.8750\n",
            "Epoch 85/100\n",
            "17/17 [==============================] - 0s 11ms/step - loss: 0.2084 - accuracy: 0.9528 - val_loss: 0.3913 - val_accuracy: 0.8750\n",
            "Epoch 86/100\n",
            "17/17 [==============================] - 0s 11ms/step - loss: 0.2051 - accuracy: 0.9528 - val_loss: 0.3892 - val_accuracy: 0.8667\n",
            "Epoch 87/100\n",
            "17/17 [==============================] - 0s 11ms/step - loss: 0.2019 - accuracy: 0.9528 - val_loss: 0.3872 - val_accuracy: 0.8667\n",
            "Epoch 88/100\n",
            "17/17 [==============================] - 0s 11ms/step - loss: 0.1988 - accuracy: 0.9546 - val_loss: 0.3848 - val_accuracy: 0.8667\n",
            "Epoch 89/100\n",
            "17/17 [==============================] - 0s 11ms/step - loss: 0.1957 - accuracy: 0.9556 - val_loss: 0.3827 - val_accuracy: 0.8667\n",
            "Epoch 90/100\n",
            "17/17 [==============================] - 0s 11ms/step - loss: 0.1927 - accuracy: 0.9565 - val_loss: 0.3806 - val_accuracy: 0.8667\n",
            "Epoch 91/100\n",
            "17/17 [==============================] - 0s 12ms/step - loss: 0.1898 - accuracy: 0.9574 - val_loss: 0.3783 - val_accuracy: 0.8750\n",
            "Epoch 92/100\n",
            "17/17 [==============================] - 0s 11ms/step - loss: 0.1869 - accuracy: 0.9593 - val_loss: 0.3768 - val_accuracy: 0.8750\n",
            "Epoch 93/100\n",
            "17/17 [==============================] - 0s 11ms/step - loss: 0.1841 - accuracy: 0.9611 - val_loss: 0.3746 - val_accuracy: 0.8750\n",
            "Epoch 94/100\n",
            "17/17 [==============================] - 0s 11ms/step - loss: 0.1813 - accuracy: 0.9611 - val_loss: 0.3730 - val_accuracy: 0.8750\n",
            "Epoch 95/100\n",
            "17/17 [==============================] - 0s 11ms/step - loss: 0.1786 - accuracy: 0.9620 - val_loss: 0.3711 - val_accuracy: 0.8750\n",
            "Epoch 96/100\n",
            "17/17 [==============================] - 0s 11ms/step - loss: 0.1760 - accuracy: 0.9620 - val_loss: 0.3696 - val_accuracy: 0.8750\n",
            "Epoch 97/100\n",
            "17/17 [==============================] - 0s 11ms/step - loss: 0.1734 - accuracy: 0.9620 - val_loss: 0.3677 - val_accuracy: 0.8750\n",
            "Epoch 98/100\n",
            "17/17 [==============================] - 0s 11ms/step - loss: 0.1710 - accuracy: 0.9620 - val_loss: 0.3662 - val_accuracy: 0.8750\n",
            "Epoch 99/100\n",
            "17/17 [==============================] - 0s 11ms/step - loss: 0.1685 - accuracy: 0.9639 - val_loss: 0.3647 - val_accuracy: 0.8750\n",
            "Epoch 100/100\n",
            "17/17 [==============================] - 0s 11ms/step - loss: 0.1661 - accuracy: 0.9648 - val_loss: 0.3631 - val_accuracy: 0.8750\n"
          ]
        }
      ]
    },
    {
      "cell_type": "code",
      "source": [
        "conv_model.evaluate(x_test, y_test)"
      ],
      "metadata": {
        "colab": {
          "base_uri": "https://localhost:8080/"
        },
        "id": "enN755M4Midc",
        "outputId": "d9828e9b-7ba7-4ce3-a38b-2319fa8fb14e"
      },
      "execution_count": 19,
      "outputs": [
        {
          "output_type": "stream",
          "name": "stdout",
          "text": [
            "4/4 [==============================] - 0s 10ms/step - loss: 0.3631 - accuracy: 0.8750\n"
          ]
        },
        {
          "output_type": "execute_result",
          "data": {
            "text/plain": [
              "[0.3631269633769989, 0.875]"
            ]
          },
          "metadata": {},
          "execution_count": 19
        }
      ]
    },
    {
      "cell_type": "code",
      "source": [
        "# The history.history[\"loss\"] entry is a dictionary with as many values as epochs that the\n",
        "# model was trained on. \n",
        "df_loss_acc = pd.DataFrame(history.history)\n",
        "df_loss= df_loss_acc[['loss','val_loss']]\n",
        "df_loss.rename(columns={'loss':'train','val_loss':'validation'},inplace=True)\n",
        "df_acc= df_loss_acc[['accuracy','val_accuracy']]\n",
        "df_acc.rename(columns={'accuracy':'train','val_accuracy':'validation'},inplace=True)\n",
        "df_loss.plot(title='Model loss',figsize=(12,8)).set(xlabel='Epoch',ylabel='Loss')\n",
        "df_acc.plot(title='Model Accuracy',figsize=(12,8)).set(xlabel='Epoch',ylabel='Accuracy')"
      ],
      "metadata": {
        "colab": {
          "base_uri": "https://localhost:8080/",
          "height": 1000
        },
        "id": "rBkWmGyyA53U",
        "outputId": "3d6237ed-f35e-49bc-c812-9f0b7d696d78"
      },
      "execution_count": 17,
      "outputs": [
        {
          "output_type": "stream",
          "name": "stderr",
          "text": [
            "/usr/local/lib/python3.7/dist-packages/pandas/core/frame.py:5047: SettingWithCopyWarning: \n",
            "A value is trying to be set on a copy of a slice from a DataFrame\n",
            "\n",
            "See the caveats in the documentation: https://pandas.pydata.org/pandas-docs/stable/user_guide/indexing.html#returning-a-view-versus-a-copy\n",
            "  errors=errors,\n"
          ]
        },
        {
          "output_type": "execute_result",
          "data": {
            "text/plain": [
              "[Text(0, 0.5, 'Accuracy'), Text(0.5, 0, 'Epoch')]"
            ]
          },
          "metadata": {},
          "execution_count": 17
        },
        {
          "output_type": "display_data",
          "data": {
            "text/plain": [
              "<Figure size 864x576 with 1 Axes>"
            ],
            "image/png": "[encoded data removed]"
          },
          "metadata": {
            "needs_background": "light"
          }
        },
        {
          "output_type": "display_data",
          "data": {
            "text/plain": [
              "<Figure size 864x576 with 1 Axes>"
            ],
            "image/png": "[encoded data removed]"
          },
          "metadata": {
            "needs_background": "light"
          }
        }
      ]
    },
    {
      "cell_type": "code",
      "source": [
        ""
      ],
      "metadata": {
        "id": "hReyU3l8A56c"
      },
      "execution_count": 12,
      "outputs": []
    }
  ]
}